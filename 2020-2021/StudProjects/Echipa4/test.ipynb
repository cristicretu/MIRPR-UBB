{
 "cells": [
  {
   "cell_type": "code",
   "execution_count": 5,
   "metadata": {
    "collapsed": true
   },
   "outputs": [
    {
     "name": "stderr",
     "output_type": "stream",
     "text": [
      "[nltk_data] Downloading package stopwords to\n",
      "[nltk_data]     C:\\Users\\Ilove\\AppData\\Roaming\\nltk_data...\n",
      "[nltk_data]   Package stopwords is already up-to-date!\n"
     ]
    },
    {
     "data": {
      "text/plain": "True"
     },
     "execution_count": 5,
     "metadata": {},
     "output_type": "execute_result"
    }
   ],
   "source": [
    "import nltk\n",
    "import pandas as pd\n",
    "from gensim.models import Word2Vec\n",
    "from sklearn.metrics.pairwise import cosine_similarity\n",
    "from textUtils import cleanAll, getTFIDF_vectors, getVector\n",
    "from datetime import datetime as date\n",
    "nltk.download('stopwords')"
   ]
  },
  {
   "cell_type": "code",
   "execution_count": 6,
   "outputs": [
    {
     "name": "stdout",
     "output_type": "stream",
     "text": [
      "loaded google model\n",
      "description loading: 2021-01-09 12:53:26.753815\n",
      "77729/77729\r\n",
      "title loading: 2021-01-10 00:13:42.921346\n",
      "77729/77729\r\n",
      "created vectors\n"
     ]
    }
   ],
   "source": [
    "df = pd.read_csv(\"BestDataset2.csv\")\n",
    "df = df.dropna(subset=['description', 'bedrooms_count', 'average_rate_per_night'])\n",
    "df = df.drop_duplicates(subset=['title'])\n",
    "df = df.drop_duplicates(subset=['url'])\n",
    "df = df.drop(df[df['description'].str.len() < 5].index)\n",
    "# df['bedrooms_count'] = df['bedrooms_count'].str.replace('Studio', '1')\n",
    "df['average_rate_per_night'] = df['average_rate_per_night'].str.replace('$', '')\n",
    "df['average_rate_per_night'] = df['average_rate_per_night'].str.replace(',', '')\n",
    "# df['title'] = df['title'].fillna('a')\n",
    "# df['average_rate_per_night'] = df['average_rate_per_night'].fillna(df['average_rate_per_night'].mean())\n",
    "\n",
    "cleanedTitle = df['title'].apply(cleanAll)\n",
    "cleanedDescription = df['description'].apply(cleanAll)\n",
    "\n",
    "corpusTitle = [words.split() for words in cleanedTitle]\n",
    "corpusDescriptin = [words.split() for words in cleanedDescription]\n",
    "google_model = Word2Vec(size=300, window=5, min_count=5, workers=6)\n",
    "google_model.build_vocab(corpusTitle + corpusDescriptin)\n",
    "\n",
    "google_model.intersect_word2vec_format('./data/GoogleNews-vectors-negative300.bin', lockf=1.0, binary=True)\n",
    "google_model.train(corpusTitle + corpusDescriptin, total_examples=google_model.corpus_count, epochs=5)\n",
    "\n",
    "print(\"loaded google model\")\n",
    "\n",
    "print(\"description loading: \" + str(date.now()))\n",
    "tfidf_featureDescription, tfidf_listDescription, tfidf_vectorsDescription = getTFIDF_vectors(cleanedDescription,corpusDescriptin, google_model)\n",
    "print(\"\\ntitle loading: \" + str(date.now()))\n",
    "tfidf_featureTitle, tfidf_listTitle, tfidf_vectorsTitle = getTFIDF_vectors(cleanedTitle,corpusTitle, google_model)\n",
    "print(\"\\ncreated vectors\")"
   ],
   "metadata": {
    "collapsed": false,
    "pycharm": {
     "name": "#%%\n"
    }
   }
  },
  {
   "cell_type": "code",
   "execution_count": 7,
   "outputs": [],
   "source": [
    "import pickle\n",
    "PIK = \"data/pickle.dat\"\n",
    "\n",
    "data = [google_model,[tfidf_featureDescription, tfidf_listDescription, tfidf_vectorsDescription],[tfidf_featureTitle, tfidf_listTitle, tfidf_vectorsTitle]]\n",
    "with open(PIK, \"wb\") as f:\n",
    "    pickle.dump(data, f)"
   ],
   "metadata": {
    "collapsed": false,
    "pycharm": {
     "name": "#%%\n"
    }
   }
  },
  {
   "cell_type": "code",
   "execution_count": 9,
   "outputs": [
    {
     "name": "stdout",
     "output_type": "stream",
     "text": [
      "Amazing view, comfortable/big room: The house is brand new and the room is finely decorated ! The room is very large ( 20m2 ), with a big bathroom and an amazing view of the Redeemer ! The house location is great , in a private condominium in the middle of South Zone of Rio de , with 24h security . We are close to , Botanical Garden , , and , with nearby / . The house in a green area . We are often by beautiful , and . Our house is in a hill in front of the , , the Botanical Garden and the Forest . The room is very large and and the bathroom is newly . We speak , and . We will offer you all the information you need to have a marvelous experience in town . We are close to many . There are great , , shopping and famous nearby . For those who enjoy physical , there is a possibility to practice sports in . T\n",
      "2 Bedrooms, mountain view, Close to Beach & Subway: Beautiful high ceiling apt w 2 , Living & study looking to Rio ' s striking mountain landscape . Warm , Colorful & Sunny , decorated with artcraft from all over the world . 5 \" to beach . Walk to and . Close subway . Can accommodate up to 6 people with the living - room Sofa cam . Very comfy , all the and and are included and we just ! We can add an extra single bed if , we also have full on baby gear if . :) Bay right on the mountain , no vis vis . Daily cleaning included . You will have access to the whole which a Main and Service entrance , Laundry area , Kitchen with breakfast table , and a - working space that 2 or 3 people as . We would be glad to have a chat to recommend you good ! is a very animated and we are in its heart , in the famous , close to every shop , , with stunning on the mountain and y\n",
      "Nice Viewpoint House near Stockholm: 120 m ^ 2 flat with 4 , very friendly and diverse environment ! The house an amazing view over , and 2 and 1 bus station next to it . 20 min from center The living room is big and cozy , just like the available room :). 3 floor house , big of 11 . The house is quite big , so it never messy or crowded . the last floor where the room is , is 120 m ^ 2 , with 4 total . Each room of about 15 m ^ 2 . The kitchen is big , fully equiped . Washing machine for your clothes in the bathroom , a aswell . Enough with the :), the place is awesome , on top of a hill . The view is great , it me feel really relaxed and in peace :). You will be the flat with ( ), ( German ) and ( Me ;), from ). Hope to see you soon ! 2 by , the red line in or , the bus 147 also by . It you about 20 to be in the middle of ! Yes please ;)! We like to eat together , drink a\n",
      "Big apartment near nature & central Stockholm: Our home is comfortable and beautiful . The apartment is in / ( ). A great place if you want to enjoy sport , family / or city life . Near to central where you have and and also near why not it with going , swimming , barbecue at the waterfront . Or just be part of the nature scenery , with . The nature , lake and the city is just outside of your apartment . Just enjoy ! Fantastic home for and fun vacation . Nice garden where you family or can sit and eat breakfast . The are comfortable . Nice big bed in the main bedroom . Good room for or young people . We have a nice balcony where you can sit and just chill . Cleaning fee 100 Calm and friendly area . 8 with buss 133 from to . From ( ) you take the to central and other main . buss goes from . We have two\n",
      "Villa close to Nature, Lake and City Center.: Villa close to City , the beach and with nature around the corner . Great and spacious . to lend small sailing boat for to surrounding such as Eker . Clean and cozy indoor with great out , kitchen and big living room . Three bedroom on the same floor - for with and close to bathroom . Big outdoors veranda with lake view for and all - night - ! House : No smoking indoors . No . Fully equiped alarm connected to station in case of fire . Reachable for contact throughout your stay . Wonderful surroundings with nature close by , The Lake 100 off and in a very calm area . By car you reach in 10 and by public transport your in town on 20 . It ' s possible to walk all the way to close by all the way . from to Eker are only 10 away .\n",
      "Big Yarra View - Simply Amazing: Big View - Here ' s a chance to stay at one of the most highly rated in the Valley . With , huge swimming pool , sweeping back and much , much more , it ' s a property not to be . The property on 55 of fantastic countryside , bordering the River and looking east towards the . We ' had nothing but hugely positive and our biggest compliment , is the many repeat we get from past . We do our best to offer a resort style accommodation with all the you would expect . However , with Big View , you have the solitude of a stand alone house and grounds all to yourself but help is literally , just around the corner . The entertaining area and adjoining kitchen are huge . The kitchen will suit even the most accomplished chef . Soak up the big view from the covered pavilion of the large swimming pool , or just relax on the enormous back . Big View is in the heart of the\n",
      "Big sunny flat in Central Stockholm: Cosy flat with beautiful with wonderful sea view , very central to city pulse and nature . 5 min from and . Very good to subway and . No and no smoking inside . You can access the whole flat and a big sunny balcony . is one of the residential built in during the 1930s , built from 1929 until around 1950 , and about 10 , 000 people . Its very central and close to the city pulse of but also very close to huge and nature . Its close to and a lot of . The is and its 4 min from my flat . You are also very close to the port where you can take the to Finland . There is a cleaning fee of 400 for each reservation . Plus deposition .\n",
      "Little Cottage in São Conrado - Great view!: The cottage in a quiet residential location , with a stunning view to the sea , and the forest . Although it is in a quiet place , it is less than 10min away on foot from the beach and close to public transportation that will take you everywhere in Rio de . To access the cottage you will have to go up 70 , divided into 4 of . This is a small house in our main house lot . The house a view to the sea and to the mountain around it ( this is the mountain where people go for - gliding , so on the weekend the sky is very colorful with all the ). Since it is very close to the rain forest you can hear and see small , and many of . The location is ideal for at University in or in Barra , or for anyone to work in Barra da and / or . It is 200 m away from the main street with several bus , a taxi stand , a supermarket , a catholic church , and 350 away from the beach .\n",
      "Quiet house in big garden: Quiet house in peaceful area with large garden . All close to the vibrant life of High street and very well connected to the city of . This house is peaceful and is surrounded by a big green garden . have access to the whole house , except for the second toilet and the studio space in the garden . We may spend a night or so a week in the studio and will use the second bathroom . But we won ' t impact upon your stay . This is a very quiet pocket of , but very close to the activity and life of High Street and all it to offer - live music , shopping , ... This house is near to public transport . Close to the train station and also close to and If you have a green thumb you are most welcome to water the garden . The two will be after by who will pass by every day or two to check the food and water . They will enter via the side gate , so won ' t disturb you .\n",
      "Sunny big room with a forest view in North London: Large , sunny , private studio on top floor of wonderful house ; with luxury en - suite bathroom with bath and , bed and possible 3rd bed . Situated on a quiet street in a green neighborhood , with great coffee , , and . Eight minute walk to Central Underground station and a 20 minute trip to Cross , , and Central . for guest use if you wish to explore further afield , like Heath , Park and market . it ' s a huge room with big looking out over the park behind our house , sunset . very quiet but close to all the hustle and bustle of the city big private room , private bathroom , kitchen and laundry room phone or amazing gorgeous neighborhood with park and close to and tube tube , bike , car ( free parking in the street ) we have\n"
     ]
    }
   ],
   "source": [
    "# description = \"I want a quiet and warm place with a pool next to a beach, perfect for a couple.\"\n",
    "description = \"I wanna go to big house close to a mountain\"\n",
    "description = cleanAll(description)\n",
    "\n",
    "desc = description.split()\n",
    "sent_vecDescription = getVector(desc,tfidf_featureDescription,tfidf_listDescription, google_model)\n",
    "sent_vecTitle = getVector(desc,tfidf_featureTitle,tfidf_listTitle, google_model)\n",
    "cosine_similaritiesDescription = cosine_similarity([sent_vecDescription],tfidf_vectorsDescription)\n",
    "cosine_similaritiesTitle = cosine_similarity([sent_vecTitle],tfidf_vectorsTitle)\n",
    "\n",
    "sim_scoresDescription = list(enumerate(cosine_similaritiesDescription[0]))\n",
    "sim_scoresDescription = [x if x[1] <=1 else None for x in sim_scoresDescription]\n",
    "\n",
    "sim_scoresTitle = list(enumerate(cosine_similaritiesTitle[0]))\n",
    "sim_scoresTitle = [x if x[1] <=1 else None for x in sim_scoresTitle]\n",
    "\n",
    "sim_scores = [(sd[0],sd[1] + st[1] * 0.8) for sd,st in zip(sim_scoresDescription,sim_scoresTitle)]\n",
    "sim_scores = sorted(sim_scores, key=lambda x: x[1], reverse=True)\n",
    "sim_scores = sim_scores[0:10]\n",
    "places_indices = [i[0] for i in sim_scores]\n",
    "\n",
    "places = df[['description','title', 'url', 'average_rate_per_night', 'bedrooms_count', 'city']]\n",
    "recommend = places.iloc[places_indices]\n",
    "for index, row in recommend.iterrows():\n",
    "    print(row['title']+\": \"+row['description'])\n",
    "\n"
   ],
   "metadata": {
    "collapsed": false,
    "pycharm": {
     "name": "#%%\n"
    }
   }
  }
 ],
 "metadata": {
  "kernelspec": {
   "name": "python3",
   "language": "python",
   "display_name": "Python 3"
  },
  "language_info": {
   "codemirror_mode": {
    "name": "ipython",
    "version": 2
   },
   "file_extension": ".py",
   "mimetype": "text/x-python",
   "name": "python",
   "nbconvert_exporter": "python",
   "pygments_lexer": "ipython2",
   "version": "2.7.6"
  }
 },
 "nbformat": 4,
 "nbformat_minor": 0
}